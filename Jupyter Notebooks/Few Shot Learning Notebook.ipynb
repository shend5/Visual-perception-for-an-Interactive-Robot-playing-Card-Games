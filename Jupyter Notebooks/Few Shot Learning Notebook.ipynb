{
 "cells": [
  {
   "cell_type": "markdown",
   "metadata": {},
   "source": [
    "# Few Shot Learning Technique"
   ]
  },
  {
   "cell_type": "markdown",
   "metadata": {
    "colab": {},
    "colab_type": "code",
    "id": "XHXI3lJnijUR"
   },
   "source": [
    "In this Jupyter Notebook, we train a neural network with the few shot learning technique. This will be trained on a 68 instances of different monuments(8 different classes, where each class has 5-10 instances).\n",
    "Then, it will be tested on a dataset of cards which contain images that the neural network did not see during training.\n",
    "\n",
    "Few Shot learning technique is an object categorization technique, used mostly in computer vision. Most machine learning algorithms require thousands or tens of thousands of samples/images and large datasets in order to achieve good results, but few-shot learning learns information from only a few training samples/images.\n",
    "This method was inspired by humans, which are able to learn many object categories just by seeing a few examples. The motivation is that systems, like humans, can use prior knowledge of object categories to classify new objects."
   ]
  },
  {
   "cell_type": "code",
   "execution_count": 2,
   "metadata": {},
   "outputs": [],
   "source": [
    "import numpy as np\n",
    "import tensorflow as tf\n",
    "from tensorflow import keras\n",
    "import pandas as pd\n",
    "import cv2 \n",
    "import glob\n",
    "import matplotlib.pyplot as plt\n",
    "from sklearn.model_selection import train_test_split\n",
    "from PIL import Image\n",
    "from random import sample"
   ]
  },
  {
   "cell_type": "markdown",
   "metadata": {
    "colab_type": "text",
    "id": "QMR6epEhijUW"
   },
   "source": [
    "## 1. Dataset Creation\n",
    "\n",
    "We create a dataset where we have two folders for training: trainImages1 and trainImages2, and two folders for validation validationImages1, validationImages2. Each of these folders have subfolders named 0 and 1. For example, the first image that is in trainImages1\\1 is of the same class with the first image that is in trainImages2\\1. This will enable the ImageDataGenerator to read pairs of images and know if they are of the same class(are in subfolders 1), or if they are of different classes(are in subfolders 0).\n",
    "For testing, there is a csv file created where we have a pair of images and their corresponding label 0 or 1."
   ]
  },
  {
   "cell_type": "code",
   "execution_count": 9,
   "metadata": {
    "colab": {},
    "colab_type": "code",
    "id": "LTJCrNe7ijUY"
   },
   "outputs": [],
   "source": [
    "data_path = \"\\\\dataset\"\n",
    "classes = [\"Big_Ben\", \"Brandenburg_Gate\", \"Colosseo\", \"Duomo\", \"Eiffel\", \"Sagrada_familia\",\n",
    "           \"Saint_Basil_Cathedral\",\"Statue_of_liberty\"]"
   ]
  },
  {
   "cell_type": "code",
   "execution_count": 10,
   "metadata": {
    "colab": {},
    "colab_type": "code",
    "id": "kAoezshSijUh"
   },
   "outputs": [],
   "source": [
    "Images = []\n",
    "Labels = []"
   ]
  },
  {
   "cell_type": "code",
   "execution_count": 11,
   "metadata": {
    "colab": {},
    "colab_type": "code",
    "id": "0AiG6dVqijUj"
   },
   "outputs": [],
   "source": [
    "for i in range(0,len(classes)):\n",
    "    dataset_path = \"dataset\\\\\"\n",
    "    dataset_path = dataset_path + classes[i] + \"\\\\\"\n",
    "    for image in glob.glob(dataset_path + \"*.jpg\"):\n",
    "        opened_image = np.asarray(Image.open(image))\n",
    "        opened_image = opened_image.reshape(67500,).tolist()\n",
    "        Images.append(opened_image)\n",
    "        Labels.append(i)"
   ]
  },
  {
   "cell_type": "code",
   "execution_count": 12,
   "metadata": {},
   "outputs": [
    {
     "data": {
      "text/plain": [
       "68"
      ]
     },
     "execution_count": 12,
     "metadata": {},
     "output_type": "execute_result"
    }
   ],
   "source": [
    "len(Images)"
   ]
  },
  {
   "cell_type": "markdown",
   "metadata": {
    "colab_type": "text",
    "id": "JPKNwEoDijUt"
   },
   "source": [
    "### 1.1 Training and Validation Samples"
   ]
  },
  {
   "cell_type": "markdown",
   "metadata": {
    "colab_type": "text",
    "id": "WZVRcgR0ijUu"
   },
   "source": [
    "Create 40,000 pairs of images for training."
   ]
  },
  {
   "cell_type": "code",
   "execution_count": 13,
   "metadata": {
    "colab": {},
    "colab_type": "code",
    "id": "E4R3NPDKijUu"
   },
   "outputs": [],
   "source": [
    "for i in range(0, 40000):\n",
    "    images_chosen = sample(Images, 2)\n",
    "    image_indexes = Images.index(images_chosen[0]), Images.index(images_chosen[1])\n",
    "    image1 = np.asarray(images_chosen[0], dtype=\"uint8\").reshape((150, 150, 3))\n",
    "    image2 = np.asarray(images_chosen[1], dtype=\"uint8\").reshape((150, 150, 3))\n",
    "    if(Labels[image_indexes[0]] == Labels[image_indexes[1]]):\n",
    "        plt.imsave(r\"dataset\\trainImages1\\1\\Image_one\"+str(i)+\".jpg\", image1)\n",
    "        plt.imsave(r\"dataset\\trainImages2\\1\\Image_two\"+str(i)+\".jpg\", image2)\n",
    "    else:\n",
    "        plt.imsave(r\"dataset\\trainImages1\\0\\Image_one\"+str(i)+\".jpg\", image1)\n",
    "        plt.imsave(r\"dataset\\trainImages2\\0\\Image_two\"+str(i)+\".jpg\", image2)"
   ]
  },
  {
   "cell_type": "markdown",
   "metadata": {
    "colab_type": "text",
    "id": "s-WtpsFBijUy"
   },
   "source": [
    "add some more pairs of images that are of the same class. This is done so that we don't end up having too many pairs of images of different classes, and too few of the images of the same class."
   ]
  },
  {
   "cell_type": "code",
   "execution_count": 15,
   "metadata": {
    "colab": {},
    "colab_type": "code",
    "id": "ffadiHD_ijUy"
   },
   "outputs": [],
   "source": [
    "for i in range(40000, 80000):\n",
    "    images_chosen = sample(Images, 2)\n",
    "    image_indexes = Images.index(images_chosen[0]), Images.index(images_chosen[1])\n",
    "    image1 = np.asarray(images_chosen[0], dtype=\"uint8\").reshape((150, 150, 3))\n",
    "    image2 = np.asarray(images_chosen[1], dtype=\"uint8\").reshape((150, 150, 3))\n",
    "    if(Labels[image_indexes[0]] == Labels[image_indexes[1]]):\n",
    "        plt.imsave(r\"dataset\\trainImages1\\1\\Image_one\"+str(i)+\".jpg\", image1)\n",
    "        plt.imsave(r\"dataset\\trainImages2\\1\\Image_two\"+str(i)+\".jpg\", image2)"
   ]
  },
  {
   "cell_type": "markdown",
   "metadata": {
    "colab_type": "text",
    "id": "xGy8xfFdijU1"
   },
   "source": [
    "Create 10,000 pairs of images for validation. Similar procedure as for the training images."
   ]
  },
  {
   "cell_type": "code",
   "execution_count": null,
   "metadata": {
    "colab": {},
    "colab_type": "code",
    "id": "kIl3BDl-ijU2"
   },
   "outputs": [],
   "source": [
    "for i in range(80000, 90000):\n",
    "    images_chosen = sample(Images, 2)\n",
    "    image_indexes = Images.index(images_chosen[0]), Images.index(images_chosen[1])\n",
    "    image1 = np.asarray(images_chosen[0], dtype=\"uint8\").reshape((150, 150, 3))\n",
    "    image2 = np.asarray(images_chosen[1], dtype=\"uint8\").reshape((150, 150, 3))\n",
    "    if(Labels[image_indexes[0]] == Labels[image_indexes[1]]):\n",
    "        plt.imsave(r\"dataset\\validationImages1\\1\\Image_one\"+str(i)+\".jpg\", image1)\n",
    "        plt.imsave(r\"dataset\\validationImages2\\1\\Image_two\"+str(i)+\".jpg\", image2)\n",
    "    else:\n",
    "        plt.imsave(r\"dataset\\validationImages1\\0\\Image_one\"+str(i)+\".jpg\", image1)\n",
    "        plt.imsave(r\"dataset\\validationImages2\\0\\Image_two\"+str(i)+\".jpg\", image2)"
   ]
  },
  {
   "cell_type": "markdown",
   "metadata": {
    "colab_type": "text",
    "id": "TME4b3EKijU5"
   },
   "source": [
    "### 1.2 Testing Samples"
   ]
  },
  {
   "cell_type": "markdown",
   "metadata": {
    "colab_type": "text",
    "id": "yIxXHzhppewa"
   },
   "source": [
    "Here, we have a csv file that contains three columns: Image_1, Image_2, Same.\n",
    "Each row contains a pair of images and a value 0(if they are of different class), or 1 if they are of the same class."
   ]
  },
  {
   "cell_type": "code",
   "execution_count": 37,
   "metadata": {
    "colab": {
     "base_uri": "https://localhost:8080/",
     "height": 34
    },
    "colab_type": "code",
    "id": "0dLhP42GijVF",
    "outputId": "b5660de3-03b1-45e8-cef9-e4786c221373"
   },
   "outputs": [
    {
     "data": {
      "text/plain": [
       "'Image_1,Image_2,Same\\n'"
      ]
     },
     "execution_count": 37,
     "metadata": {
      "tags": []
     },
     "output_type": "execute_result"
    }
   ],
   "source": [
    "test_dataset = open(\"test_dataset.csv\", \"r\")\n",
    "test_dataset.__next__()"
   ]
  },
  {
   "cell_type": "code",
   "execution_count": null,
   "metadata": {
    "colab": {},
    "colab_type": "code",
    "id": "Zy0TfIq0ijVI"
   },
   "outputs": [],
   "source": [
    "testImages_1, testImages_2, testLabels = [], [], []\n",
    "for row in test_dataset:\n",
    "    bracket_index = row.index(\"]\")\n",
    "    image1 = row[1:bracket_index+1].strip(\"[]\").split(\",\")\n",
    "    image2 = row[bracket_index+4:-5].strip(\"[]\").split(\",\")\n",
    "    image1 = [int(i) for i in image1]\n",
    "    image2 = [int(i) for i in image2]\n",
    "    label = int(row[-2])\n",
    "    image1_as_array, image2_as_array = np.array(image1, dtype=\"int\"), np.array(image2, dtype=\"int\") \n",
    "    image1_as_array, image2_as_array = image1_as_array.reshape((150, 150, 3)), image2_as_array.reshape((150, 150, 3))\n",
    "    testImages_1.append(image1_as_array)\n",
    "    testImages_2.append(image2_as_array)\n",
    "    testLabels.append(label)"
   ]
  },
  {
   "cell_type": "code",
   "execution_count": null,
   "metadata": {
    "colab": {},
    "colab_type": "code",
    "id": "sJsI-_IUijVL"
   },
   "outputs": [],
   "source": [
    "testImages_1, testImages_2 = np.array(testImages_1), np.array(testImages_2)"
   ]
  },
  {
   "cell_type": "code",
   "execution_count": null,
   "metadata": {
    "colab": {},
    "colab_type": "code",
    "id": "d7Gffai5ijVO"
   },
   "outputs": [],
   "source": [
    "testLabels = np.asarray(testLabels).reshape((-1, 1))"
   ]
  },
  {
   "cell_type": "markdown",
   "metadata": {
    "colab_type": "text",
    "id": "gqpb0a0CijVR"
   },
   "source": [
    "## 2. Data Augmnetation"
   ]
  },
  {
   "cell_type": "markdown",
   "metadata": {
    "colab_type": "text",
    "id": "cmmCyl3CijVS"
   },
   "source": [
    "Creating a custom ImageDataGenerator for augmenting our input images."
   ]
  },
  {
   "cell_type": "code",
   "execution_count": null,
   "metadata": {
    "colab": {},
    "colab_type": "code",
    "id": "qGLeotfOijVS"
   },
   "outputs": [],
   "source": [
    "from tensorflow.keras.preprocessing.image import ImageDataGenerator\n",
    "train_generator = ImageDataGenerator(\n",
    "                                    rescale = 1 / 255.0,\n",
    "                                    zoom_range = 0.1,\n",
    "                                    width_shift_range = 0.1,\n",
    "                                    height_shift_range = 0.1,\n",
    "                                    rotation_range = 25,\n",
    "                                    brightness_range = [0.6,1.3]\n",
    "                                    )\n",
    "\n",
    "validation_generator = ImageDataGenerator(\n",
    "                                    rescale = 1 / 255.0,\n",
    "                                    zoom_range = 0.1,\n",
    "                                    width_shift_range = 0.1,\n",
    "                                    height_shift_range = 0.1,\n",
    "                                    rotation_range = 25,\n",
    "                                    brightness_range = [0.6,1.3]\n",
    "                                    )\n",
    "\n",
    "def generate_generators(generator, dir1, dir2, batch_size):\n",
    "    gen1 = generator.flow_from_directory(dir1,\n",
    "                                         batch_size=batch_size,\n",
    "                                         seed=7,\n",
    "                                         class_mode='binary')\n",
    "    \n",
    "    gen2 = generator.flow_from_directory(dir2,\n",
    "                                         batch_size=batch_size,\n",
    "                                         seed=7,\n",
    "                                         class_mode='binary')\n",
    "    \n",
    "    while True:\n",
    "        image1 = gen1.next()\n",
    "        image2 = gen2.next()\n",
    "        yield [image1[0], image2[0]], image2[1]"
   ]
  },
  {
   "cell_type": "code",
   "execution_count": null,
   "metadata": {
    "colab": {},
    "colab_type": "code",
    "id": "zoayXKtKijVV"
   },
   "outputs": [],
   "source": [
    "inputGenerator = generate_generators(generator=train_generator,\n",
    "                                     dir1=traindir1,\n",
    "                                     dir2=traindir2,\n",
    "                                     batch_size=64)\n",
    "\n",
    "validationGenerator = generate_generators(generator=validation_generator,\n",
    "                                          dir1=validationdir1,\n",
    "                                          dir2=validationdir2,\n",
    "                                          batch_size=64)"
   ]
  },
  {
   "cell_type": "markdown",
   "metadata": {
    "colab_type": "text",
    "id": "i-20iz7vijVX"
   },
   "source": [
    "## 3. Model"
   ]
  },
  {
   "cell_type": "code",
   "execution_count": 7,
   "metadata": {
    "colab": {
     "base_uri": "https://localhost:8080/",
     "height": 357
    },
    "colab_type": "code",
    "id": "2w0Ot8IiijVY",
    "outputId": "f7ceac73-cc04-458c-80d2-6b0e2b989c98"
   },
   "outputs": [
    {
     "name": "stdout",
     "output_type": "stream",
     "text": [
      "Model: \"model_1\"\n",
      "__________________________________________________________________________________________________\n",
      "Layer (type)                    Output Shape         Param #     Connected to                     \n",
      "==================================================================================================\n",
      "input_1 (InputLayer)            [(None, 150, 150, 3) 0                                            \n",
      "__________________________________________________________________________________________________\n",
      "input_2 (InputLayer)            [(None, 150, 150, 3) 0                                            \n",
      "__________________________________________________________________________________________________\n",
      "model (Model)                   (None, 4096)         2266688     input_1[0][0]                    \n",
      "                                                                 input_2[0][0]                    \n",
      "__________________________________________________________________________________________________\n",
      "lambda (Lambda)                 (None, 4096)         0           model[1][0]                      \n",
      "                                                                 model[2][0]                      \n",
      "__________________________________________________________________________________________________\n",
      "dense_1 (Dense)                 (None, 1)            4097        lambda[0][0]                     \n",
      "==================================================================================================\n",
      "Total params: 2,270,785\n",
      "Trainable params: 2,270,785\n",
      "Non-trainable params: 0\n",
      "__________________________________________________________________________________________________\n"
     ]
    }
   ],
   "source": [
    "from tensorflow.keras import Input\n",
    "from tensorflow.keras.models import Model\n",
    "from tensorflow.keras import layers\n",
    "\n",
    "model = tf.keras.Sequential([\n",
    "    layers.Conv2D(filters=64, input_shape=(150, 150, 3), kernel_size=(5,5), strides=1, padding=\"same\", kernel_initializer=\"he_normal\", activation=tf.nn.leaky_relu),\n",
    "    layers.Conv2D(filters=64, kernel_size=(5,5), strides=1, padding=\"same\", kernel_initializer=\"he_normal\", activation=tf.nn.leaky_relu),\n",
    "    layers.MaxPool2D(pool_size=2, strides=2),\n",
    "    layers.Dropout(0.5),\n",
    "    \n",
    "    layers.Conv2D(filters=128, kernel_size=(3,3), strides=1, padding=\"same\", kernel_initializer=\"he_normal\", activation=tf.nn.leaky_relu),\n",
    "    layers.MaxPool2D(pool_size=2, strides=2),\n",
    "    layers.Conv2D(filters=128, kernel_size=(3,3), strides=1, padding=\"same\", kernel_initializer=\"he_normal\", activation=tf.nn.leaky_relu),\n",
    "    layers.MaxPool2D(pool_size=2, strides=2),\n",
    "    layers.Dropout(0.5),\n",
    "    \n",
    "    layers.Conv2D(filters=256, kernel_size=(3,3), strides=1, padding=\"same\", kernel_initializer=\"he_normal\", activation=tf.nn.leaky_relu),\n",
    "    layers.MaxPool2D(pool_size=2, strides=2),\n",
    "    layers.Conv2D(filters=256, kernel_size=(3,3), strides=1, padding=\"same\", kernel_initializer=\"he_normal\", activation=tf.nn.leaky_relu),\n",
    "    layers.MaxPool2D(pool_size=2, strides=2),\n",
    "    layers.Dropout(0.5)\n",
    "])\n",
    "\n",
    "avg = layers.GlobalAveragePooling2D()(model.output)\n",
    "flatten = layers.Flatten()(avg)\n",
    "output = layers.Dense(4096)(flatten)\n",
    "model_2 = Model(inputs=model.input, outputs=output)\n",
    "\n",
    "input_a = Input(shape=(150, 150, 3))\n",
    "input_b = Input(shape=(150, 150, 3))\n",
    "    \n",
    "processed_a = model_2(input_a)\n",
    "processed_b = model_2(input_b)\n",
    "\n",
    "L1_layer = layers.Lambda(lambda tensors: tf.keras.backend.abs(tensors[0] - tensors[1]))\n",
    "L1_distance = L1_layer([processed_a, processed_b])\n",
    "prediction = layers.Dense(1, activation=\"sigmoid\")(L1_distance)\n",
    "final_model = Model(inputs=[input_a, input_b], outputs=prediction)\n",
    "\n",
    "final_model.summary()"
   ]
  },
  {
   "cell_type": "code",
   "execution_count": null,
   "metadata": {
    "colab": {},
    "colab_type": "code",
    "id": "v5rL6muSijVa"
   },
   "outputs": [],
   "source": [
    "# train final_model\n",
    "from tensorflow.keras.callbacks import EarlyStopping, ModelCheckpoint\n",
    "\n",
    "opt = keras.optimizers.RMSprop(learning_rate=0.0001)\n",
    "es = EarlyStopping(monitor='val_accuracy', mode='max',patience=5)\n",
    "mc = ModelCheckpoint('one_shot_learning_model.h5', monitor='val_accuracy', mode='max', save_best_only=True)"
   ]
  },
  {
   "cell_type": "code",
   "execution_count": null,
   "metadata": {
    "colab": {},
    "colab_type": "code",
    "id": "wjRyQv5BijVc"
   },
   "outputs": [],
   "source": [
    "final_model.compile(loss=\"binary_crossentropy\", optimizer=opt, metrics=[\"accuracy\"])"
   ]
  },
  {
   "cell_type": "code",
   "execution_count": 10,
   "metadata": {
    "colab": {
     "base_uri": "https://localhost:8080/",
     "height": 306
    },
    "colab_type": "code",
    "id": "1Jl8hlmeijVh",
    "outputId": "de63065c-cf24-4d31-c2f6-09e83cc5c6ad"
   },
   "outputs": [
    {
     "name": "stdout",
     "output_type": "stream",
     "text": [
      "WARNING:tensorflow:From <ipython-input-10-374328e99d25>:6: Model.fit_generator (from tensorflow.python.keras.engine.training) is deprecated and will be removed in a future version.\n",
      "Instructions for updating:\n",
      "Please use Model.fit, which supports generators.\n",
      "Found 58934 images belonging to 2 classes.\n",
      "Found 58934 images belonging to 2 classes.\n",
      "Epoch 1/5\n",
      "920/920 [==============================] - ETA: 0s - loss: 0.4069 - accuracy: 0.7902Found 10000 images belonging to 2 classes.\n",
      "Found 10000 images belonging to 2 classes.\n",
      "920/920 [==============================] - 2076s 2s/step - loss: 0.4069 - accuracy: 0.7902 - val_loss: 0.2146 - val_accuracy: 0.9019\n",
      "Epoch 2/5\n",
      "920/920 [==============================] - 2068s 2s/step - loss: 0.2205 - accuracy: 0.9035 - val_loss: 0.1745 - val_accuracy: 0.9232\n",
      "Epoch 3/5\n",
      "920/920 [==============================] - 2046s 2s/step - loss: 0.0730 - accuracy: 0.9739 - val_loss: 0.0879 - val_accuracy: 0.9629\n",
      "Epoch 4/5\n",
      "920/920 [==============================] - 2053s 2s/step - loss: 0.0268 - accuracy: 0.9915 - val_loss: 0.0877 - val_accuracy: 0.9668\n",
      "Epoch 5/5\n",
      "920/920 [==============================] - 2053s 2s/step - loss: 0.0166 - accuracy: 0.9947 - val_loss: 0.0770 - val_accuracy: 0.9727\n"
     ]
    }
   ],
   "source": [
    "history = final_model.fit_generator(inputGenerator,\n",
    "                          validation_data = validationGenerator,\n",
    "                          steps_per_epoch = 920,\n",
    "                          validation_steps = 156,\n",
    "                          epochs=5,\n",
    "                          callbacks=[mc, es])"
   ]
  },
  {
   "cell_type": "markdown",
   "metadata": {},
   "source": [
    "## 4. Evaluation"
   ]
  },
  {
   "cell_type": "code",
   "execution_count": 36,
   "metadata": {
    "colab": {
     "base_uri": "https://localhost:8080/",
     "height": 513
    },
    "colab_type": "code",
    "id": "KQCWJiRjijVt",
    "outputId": "610901b5-b8bb-4825-9015-dff98142f945"
   },
   "outputs": [
    {
     "data": {
      "image/png": "[encoded data removed]",
      "text/plain": [
       "<Figure size 576x576 with 2 Axes>"
      ]
     },
     "metadata": {
      "needs_background": "light",
      "tags": []
     },
     "output_type": "display_data"
    }
   ],
   "source": [
    "acc = history.history['accuracy']\n",
    "val_acc = history.history['val_accuracy']\n",
    "\n",
    "loss = history.history['loss']\n",
    "val_loss = history.history['val_loss']\n",
    "\n",
    "plt.figure(figsize=(8, 8))\n",
    "plt.subplot(2, 1, 1)\n",
    "plt.plot(acc, label='Training Accuracy')\n",
    "plt.plot(val_acc, label='Validation Accuracy')\n",
    "plt.legend(loc='lower right')\n",
    "plt.ylabel('Accuracy')\n",
    "plt.ylim([min(plt.ylim()), 1])\n",
    "plt.title('Training and Validation accuracy')\n",
    "\n",
    "plt.subplot(2, 1, 2)\n",
    "plt.plot(loss, label='Training Loss')\n",
    "plt.plot(val_loss, label='Validation Loss')\n",
    "plt.legend(loc='upper right')\n",
    "plt.ylabel('Cross Entropy')\n",
    "plt.ylim([0, 1.0])\n",
    "plt.title('Training and Validation Loss')\n",
    "plt.xlabel('epoch')\n",
    "plt.show()"
   ]
  },
  {
   "cell_type": "markdown",
   "metadata": {
    "colab_type": "text",
    "id": "GInscKK9ijWF"
   },
   "source": [
    "## 4. Testing"
   ]
  },
  {
   "cell_type": "markdown",
   "metadata": {},
   "source": [
    "Testing is done with pairs of cards. These images were never seen before from the model during training. These test images are new instances of the monuments.\n",
    "The model was able to predict correctly 84.65% of the time these 2,000 pairs of images."
   ]
  },
  {
   "cell_type": "code",
   "execution_count": 43,
   "metadata": {
    "colab": {
     "base_uri": "https://localhost:8080/",
     "height": 51
    },
    "colab_type": "code",
    "id": "mDTV4tHJijWH",
    "outputId": "1692ac6d-a179-42b1-f543-98cbb016e04e"
   },
   "outputs": [
    {
     "name": "stdout",
     "output_type": "stream",
     "text": [
      "63/63 [==============================] - 4s 59ms/step - loss: 175.6844 - accuracy: 0.8465\n"
     ]
    },
    {
     "data": {
      "text/plain": [
       "[175.6844482421875, 0.8464999794960022]"
      ]
     },
     "execution_count": 43,
     "metadata": {
      "tags": []
     },
     "output_type": "execute_result"
    }
   ],
   "source": [
    "final_model.evaluate([testImages_1, testImages_2], testLabels)"
   ]
  }
 ],
 "metadata": {
  "accelerator": "GPU",
  "colab": {
   "collapsed_sections": [],
   "machine_shape": "hm",
   "name": "One_shot_learning_28April.ipynb",
   "provenance": []
  },
  "kernelspec": {
   "display_name": "Python 3",
   "language": "python",
   "name": "python3"
  },
  "language_info": {
   "codemirror_mode": {
    "name": "ipython",
    "version": 3
   },
   "file_extension": ".py",
   "mimetype": "text/x-python",
   "name": "python",
   "nbconvert_exporter": "python",
   "pygments_lexer": "ipython3",
   "version": "3.7.4"
  }
 },
 "nbformat": 4,
 "nbformat_minor": 4
}
